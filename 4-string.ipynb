{
 "cells": [
  {
   "cell_type": "markdown",
   "id": "04f74421-702c-4f10-afed-f684e14ed4c0",
   "metadata": {},
   "source": [
    "## Hello World"
   ]
  },
  {
   "cell_type": "markdown",
   "id": "cb22f054-36bc-4e4b-b772-7c6a81aceb6a",
   "metadata": {},
   "source": [
    "通常来讲，当我们学习一门新的编程语言的时候，我们写的第一个程序是打印出来 Hello World!。\n",
    "\n",
    "我们现在来弥补着一个步骤："
   ]
  },
  {
   "cell_type": "code",
   "execution_count": 2,
   "id": "4de3561d-4a17-4c60-9a65-413bf8ec983f",
   "metadata": {},
   "outputs": [
    {
     "name": "stdout",
     "output_type": "stream",
     "text": [
      "Hello World！\n"
     ]
    }
   ],
   "source": [
    "print(\"Hello World！\")"
   ]
  },
  {
   "cell_type": "markdown",
   "id": "94809b1c-2ee1-40c0-a905-341eb577af1c",
   "metadata": {},
   "source": [
    "或者我们可以将着一个句子赋值到一个变量中，然后再打印出来："
   ]
  },
  {
   "cell_type": "code",
   "execution_count": 3,
   "id": "24c3c8e8-a1f3-4277-aa5c-b389ac1bb48b",
   "metadata": {},
   "outputs": [
    {
     "name": "stdout",
     "output_type": "stream",
     "text": [
      "Hello World!\n"
     ]
    }
   ],
   "source": [
    "hw = \"Hello World!\"\n",
    "print(hw)"
   ]
  },
  {
   "cell_type": "markdown",
   "id": "3b51c5ed-cf7e-475c-a695-3522f06f9eaa",
   "metadata": {},
   "source": [
    "## String Project"
   ]
  },
  {
   "cell_type": "markdown",
   "id": "f83334d3-a25b-478a-a215-c4a69fa4db9e",
   "metadata": {},
   "source": [
    "我们来写一个程序，程序会让用户输入一些信息，并且将这些信息进行整合和打印一个句子："
   ]
  },
  {
   "cell_type": "code",
   "execution_count": 6,
   "id": "57833702-b523-4b39-a752-8a15abe640b6",
   "metadata": {},
   "outputs": [
    {
     "name": "stdin",
     "output_type": "stream",
     "text": [
      "Please enter your name:  John Smith\n",
      "Please enter your age:  12\n",
      "Please enter your id number:  3231\n"
     ]
    },
    {
     "name": "stdout",
     "output_type": "stream",
     "text": [
      "Hello, John Smith! You are 12 years old now. Your id number is 3231. Please do not forget it.\n"
     ]
    }
   ],
   "source": [
    "# ask for user name\n",
    "user_name = input(\"Please enter your name: \")\n",
    "\n",
    "# ask for user age\n",
    "age = int(input(\"Please enter your age: \"))\n",
    "\n",
    "# ask for user id\n",
    "idN = int(input(\"Please enter your id number: \"))\n",
    "\n",
    "# print the setence\n",
    "print(f\"Hello, {user_name}! You are {age} years old now. Your id number is {idN}. Please do not forget it.\")"
   ]
  },
  {
   "cell_type": "markdown",
   "id": "b699645b-4957-4c43-b158-9e948b5ad5a5",
   "metadata": {},
   "source": [
    "或者我们可以还一种format打印的方法："
   ]
  },
  {
   "cell_type": "code",
   "execution_count": 5,
   "id": "9af6f330-f461-4e05-a8a0-58552482399e",
   "metadata": {},
   "outputs": [
    {
     "data": {
      "text/plain": [
       "'Hello, John Smith'"
      ]
     },
     "execution_count": 5,
     "metadata": {},
     "output_type": "execute_result"
    }
   ],
   "source": [
    "\"Hello, {}\".format(user_name)"
   ]
  },
  {
   "cell_type": "code",
   "execution_count": 8,
   "id": "8b1ec5b2-c901-4c02-8685-5ceba152d233",
   "metadata": {},
   "outputs": [
    {
     "name": "stdout",
     "output_type": "stream",
     "text": [
      "Hello, John Smith! You are 12 years old now. Your id number is 3231. Please do not forget it.\n"
     ]
    }
   ],
   "source": [
    "print(\"Hello, {}! You are {} years old now. Your id number is {}. Please do not forget it.\".format(user_name, age, idN))"
   ]
  },
  {
   "cell_type": "markdown",
   "id": "a0cb3823-aa48-4b6e-b21a-5d2bf7df0d5f",
   "metadata": {},
   "source": [
    "我们可以将上述的代码进行优化："
   ]
  },
  {
   "cell_type": "code",
   "execution_count": 11,
   "id": "373b5a25-7e90-4bcb-9bae-6207f03e7488",
   "metadata": {},
   "outputs": [
    {
     "name": "stdout",
     "output_type": "stream",
     "text": [
      "Hello, John Smith! You are 12 years old now. Your id number is 3231. Please do not forget it.\n"
     ]
    }
   ],
   "source": [
    "format_string = \"Hello, {}! You are {} years old now. Your id number is {}. Please do not forget it.\"\n",
    "\n",
    "print(format_string.format(user_name, age, idN))"
   ]
  },
  {
   "cell_type": "markdown",
   "id": "90c9087e-758f-4370-8073-e2474cd0b84a",
   "metadata": {},
   "source": [
    "## 常见的String方法"
   ]
  },
  {
   "cell_type": "markdown",
   "id": "566dc1e3-e819-499a-a5dc-31ea423b80c0",
   "metadata": {},
   "source": [
    "首先是可以使用数字来访问对应位置的数值："
   ]
  },
  {
   "cell_type": "code",
   "execution_count": 12,
   "id": "bd68ed56-86bf-4730-8aee-f481d742ef38",
   "metadata": {},
   "outputs": [],
   "source": [
    "str_one = \"Hello World!\""
   ]
  },
  {
   "cell_type": "code",
   "execution_count": 13,
   "id": "4ffb2fde-98b0-4406-a87e-f86416e25963",
   "metadata": {},
   "outputs": [
    {
     "data": {
      "text/plain": [
       "'H'"
      ]
     },
     "execution_count": 13,
     "metadata": {},
     "output_type": "execute_result"
    }
   ],
   "source": [
    "str_one[0]"
   ]
  },
  {
   "cell_type": "code",
   "execution_count": 14,
   "id": "c710b735-dfc6-4f39-a92f-ec2c85742ac3",
   "metadata": {},
   "outputs": [
    {
     "data": {
      "text/plain": [
       "'!'"
      ]
     },
     "execution_count": 14,
     "metadata": {},
     "output_type": "execute_result"
    }
   ],
   "source": [
    "str_one[-1]"
   ]
  },
  {
   "cell_type": "markdown",
   "id": "731b97f7-6c65-48aa-8cc8-3ed9295849b7",
   "metadata": {},
   "source": [
    "可以使用[]来截取字符串："
   ]
  },
  {
   "cell_type": "code",
   "execution_count": 15,
   "id": "f09bc4d6-c789-4103-a617-041f00b92061",
   "metadata": {},
   "outputs": [
    {
     "data": {
      "text/plain": [
       "'He'"
      ]
     },
     "execution_count": 15,
     "metadata": {},
     "output_type": "execute_result"
    }
   ],
   "source": [
    "str_one[0:2]"
   ]
  },
  {
   "cell_type": "code",
   "execution_count": 16,
   "id": "f966b575-9344-492a-aa2a-e4b6493452e4",
   "metadata": {},
   "outputs": [
    {
     "data": {
      "text/plain": [
       "'HloWrd'"
      ]
     },
     "execution_count": 16,
     "metadata": {},
     "output_type": "execute_result"
    }
   ],
   "source": [
    "str_one[0::2]"
   ]
  },
  {
   "cell_type": "code",
   "execution_count": 17,
   "id": "a455c576-8abb-4b87-a5f7-ec007e07f1d9",
   "metadata": {},
   "outputs": [
    {
     "data": {
      "text/plain": [
       "'!dlroW olleH'"
      ]
     },
     "execution_count": 17,
     "metadata": {},
     "output_type": "execute_result"
    }
   ],
   "source": [
    "str_one[::-1]"
   ]
  },
  {
   "cell_type": "markdown",
   "id": "438f9d7a-4878-4bad-86fe-aedae732d56e",
   "metadata": {},
   "source": [
    "查看某一个字母是否在字符串中："
   ]
  },
  {
   "cell_type": "code",
   "execution_count": 19,
   "id": "191b038f-6770-4bd3-86df-978957906595",
   "metadata": {},
   "outputs": [
    {
     "data": {
      "text/plain": [
       "False"
      ]
     },
     "execution_count": 19,
     "metadata": {},
     "output_type": "execute_result"
    }
   ],
   "source": [
    "\"k\" in str_one"
   ]
  },
  {
   "cell_type": "code",
   "execution_count": 20,
   "id": "59ea1e32-976e-4d99-9251-259033aaa6c4",
   "metadata": {},
   "outputs": [
    {
     "data": {
      "text/plain": [
       "True"
      ]
     },
     "execution_count": 20,
     "metadata": {},
     "output_type": "execute_result"
    }
   ],
   "source": [
    "\"l\" in str_one"
   ]
  },
  {
   "cell_type": "markdown",
   "id": "7725547d-431b-4854-a1bf-d9fd1eed118e",
   "metadata": {},
   "source": [
    "将字符串的第一个字符转换为大写："
   ]
  },
  {
   "cell_type": "code",
   "execution_count": 21,
   "id": "29389364-9cd3-441c-a8af-44f077675dbb",
   "metadata": {},
   "outputs": [],
   "source": [
    "str_two = \"abcd\""
   ]
  },
  {
   "cell_type": "code",
   "execution_count": 22,
   "id": "949adbe7-f3b3-4702-986a-bca9748eceec",
   "metadata": {},
   "outputs": [
    {
     "data": {
      "text/plain": [
       "'Abcd'"
      ]
     },
     "execution_count": 22,
     "metadata": {},
     "output_type": "execute_result"
    }
   ],
   "source": [
    "str_two.capitalize()"
   ]
  },
  {
   "cell_type": "code",
   "execution_count": 23,
   "id": "6a8af365-5bf7-45e8-bae1-6b841a5859c2",
   "metadata": {},
   "outputs": [
    {
     "data": {
      "text/plain": [
       "'abcd'"
      ]
     },
     "execution_count": 23,
     "metadata": {},
     "output_type": "execute_result"
    }
   ],
   "source": [
    "str_two"
   ]
  },
  {
   "cell_type": "markdown",
   "id": "4f9be16e-f53b-451e-9573-4add05dda585",
   "metadata": {},
   "source": [
    "将所有的字符串转换为小写："
   ]
  },
  {
   "cell_type": "code",
   "execution_count": 24,
   "id": "0f18c566-8a5a-4540-b317-37d9789f8cf3",
   "metadata": {},
   "outputs": [
    {
     "data": {
      "text/plain": [
       "'abcd'"
      ]
     },
     "execution_count": 24,
     "metadata": {},
     "output_type": "execute_result"
    }
   ],
   "source": [
    "str_two.lower()"
   ]
  },
  {
   "cell_type": "markdown",
   "id": "47735750-52b5-4df5-ba71-a6075291f8f0",
   "metadata": {},
   "source": [
    "同样也可以将字符串转换为大写："
   ]
  },
  {
   "cell_type": "code",
   "execution_count": 25,
   "id": "287590f7-4b72-4daf-9e11-a1514787e4b0",
   "metadata": {},
   "outputs": [
    {
     "data": {
      "text/plain": [
       "'ABCD'"
      ]
     },
     "execution_count": 25,
     "metadata": {},
     "output_type": "execute_result"
    }
   ],
   "source": [
    "str_two.upper()"
   ]
  },
  {
   "cell_type": "markdown",
   "id": "7352b20e-401e-483e-825f-4329b3f722df",
   "metadata": {},
   "source": [
    "找到字符串中的最小字符："
   ]
  },
  {
   "cell_type": "code",
   "execution_count": 27,
   "id": "53235442-6547-4a17-a6f3-a97750ace544",
   "metadata": {},
   "outputs": [
    {
     "data": {
      "text/plain": [
       "'a'"
      ]
     },
     "execution_count": 27,
     "metadata": {},
     "output_type": "execute_result"
    }
   ],
   "source": [
    "min(str_two)"
   ]
  },
  {
   "cell_type": "markdown",
   "id": "6ac32b97-6d33-4cf8-b61c-20d5f3d85809",
   "metadata": {},
   "source": [
    "找到字符串中的最大字符："
   ]
  },
  {
   "cell_type": "code",
   "execution_count": 28,
   "id": "bd9e49dc-a6fa-4a4e-8f05-d59b8da0aaf9",
   "metadata": {},
   "outputs": [
    {
     "data": {
      "text/plain": [
       "'d'"
      ]
     },
     "execution_count": 28,
     "metadata": {},
     "output_type": "execute_result"
    }
   ],
   "source": [
    "max(str_two)"
   ]
  },
  {
   "cell_type": "markdown",
   "id": "cb22e4ea-5aa9-4771-97a9-5a91990f675f",
   "metadata": {},
   "source": [
    "让每一个单词的第一个字符变成大写："
   ]
  },
  {
   "cell_type": "code",
   "execution_count": 29,
   "id": "273eefdc-50f0-4999-bb07-797a74ecba52",
   "metadata": {},
   "outputs": [],
   "source": [
    "str_three = \"hello world i am John!\""
   ]
  },
  {
   "cell_type": "code",
   "execution_count": 30,
   "id": "04588d8e-73c7-423f-a94f-3899220f41cf",
   "metadata": {},
   "outputs": [
    {
     "data": {
      "text/plain": [
       "'Hello World I Am John!'"
      ]
     },
     "execution_count": 30,
     "metadata": {},
     "output_type": "execute_result"
    }
   ],
   "source": [
    "str_three.title()"
   ]
  },
  {
   "cell_type": "markdown",
   "id": "b3bf53ab-655a-408c-b57d-a33a389768a1",
   "metadata": {},
   "source": [
    "查看字符串的长度："
   ]
  },
  {
   "cell_type": "code",
   "execution_count": 31,
   "id": "061cb492-45b9-4881-b515-8492819dc92b",
   "metadata": {},
   "outputs": [
    {
     "data": {
      "text/plain": [
       "22"
      ]
     },
     "execution_count": 31,
     "metadata": {},
     "output_type": "execute_result"
    }
   ],
   "source": [
    "len(str_three)"
   ]
  },
  {
   "cell_type": "markdown",
   "id": "e032989a-ec57-4a23-ac7e-c0db8d1637a6",
   "metadata": {},
   "source": [
    "使用replace()来进行替换："
   ]
  },
  {
   "cell_type": "code",
   "execution_count": 33,
   "id": "95b14114-40a4-4246-b4ac-d1acb1c681bd",
   "metadata": {},
   "outputs": [
    {
     "data": {
      "text/plain": [
       "'kk bb cc'"
      ]
     },
     "execution_count": 33,
     "metadata": {},
     "output_type": "execute_result"
    }
   ],
   "source": [
    "str_four = \"aa bb cc\"\n",
    "str_four.replace(\"aa\", \"kk\")"
   ]
  }
 ],
 "metadata": {
  "kernelspec": {
   "display_name": "Python 3 (ipykernel)",
   "language": "python",
   "name": "python3"
  },
  "language_info": {
   "codemirror_mode": {
    "name": "ipython",
    "version": 3
   },
   "file_extension": ".py",
   "mimetype": "text/x-python",
   "name": "python",
   "nbconvert_exporter": "python",
   "pygments_lexer": "ipython3",
   "version": "3.10.4"
  }
 },
 "nbformat": 4,
 "nbformat_minor": 5
}
