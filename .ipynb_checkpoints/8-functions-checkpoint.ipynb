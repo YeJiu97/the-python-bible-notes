{
 "cells": [
  {
   "cell_type": "markdown",
   "id": "55f7d218-2ded-4753-af2a-4379c2b47f44",
   "metadata": {},
   "source": [
    "## 什么是 function"
   ]
  },
  {
   "cell_type": "markdown",
   "id": "10edbd4e-1725-47e7-85ce-c1965d575870",
   "metadata": {},
   "source": [
    "函数是组织好的，可重复使用的，用来实现单一，或相关联功能的代码段。"
   ]
  },
  {
   "cell_type": "markdown",
   "id": "395192e9-c9dd-43ae-96ad-a3e25ff40d83",
   "metadata": {},
   "source": [
    "这是一个函数的例子："
   ]
  },
  {
   "cell_type": "code",
   "execution_count": 1,
   "id": "f1ec150e-9f51-4084-bf2e-d1b9d179830d",
   "metadata": {},
   "outputs": [],
   "source": [
    "def add(x, y):\n",
    "    return x+y"
   ]
  },
  {
   "cell_type": "code",
   "execution_count": 2,
   "id": "45e14696-effe-4ff9-93c2-aefc5940fa7a",
   "metadata": {},
   "outputs": [
    {
     "name": "stdout",
     "output_type": "stream",
     "text": [
      "30\n"
     ]
    }
   ],
   "source": [
    "result = add(10, 20)\n",
    "\n",
    "print(result)"
   ]
  },
  {
   "cell_type": "code",
   "execution_count": 3,
   "id": "c849bd28-7754-4b4a-87cc-f21d12e0f02e",
   "metadata": {},
   "outputs": [],
   "source": [
    "def area(radius):\n",
    "    return 3.1415 * radius * radius"
   ]
  },
  {
   "cell_type": "code",
   "execution_count": 4,
   "id": "e469017b-d554-4e27-b85f-90025d65a05b",
   "metadata": {},
   "outputs": [
    {
     "name": "stdout",
     "output_type": "stream",
     "text": [
      "314.15000000000003\n"
     ]
    }
   ],
   "source": [
    "result = area(10)\n",
    "\n",
    "print(result)"
   ]
  },
  {
   "cell_type": "markdown",
   "id": "a529d8be-09f8-4697-bb5c-e148197eebaf",
   "metadata": {},
   "source": [
    "## Tic Tac Toe 游戏"
   ]
  },
  {
   "cell_type": "code",
   "execution_count": 13,
   "id": "e6128dd6-debf-48e6-aa96-f9d5914c0096",
   "metadata": {},
   "outputs": [
    {
     "name": "stdout",
     "output_type": "stream",
     "text": [
      "\n",
      "|    |    |    |\n",
      "|    |    |    |\n",
      "|    |    |    |\n",
      "\n",
      "Your turn player 1\n"
     ]
    },
    {
     "name": "stdin",
     "output_type": "stream",
     "text": [
      "Enter your move (1-9):  1\n"
     ]
    },
    {
     "name": "stdout",
     "output_type": "stream",
     "text": [
      "\n",
      "| X |    |    |\n",
      "|    |    |    |\n",
      "|    |    |    |\n",
      "\n",
      "Your turn player 2\n"
     ]
    },
    {
     "name": "stdin",
     "output_type": "stream",
     "text": [
      "Enter your move (1-9):  2\n"
     ]
    },
    {
     "name": "stdout",
     "output_type": "stream",
     "text": [
      "\n",
      "| X | O |    |\n",
      "|    |    |    |\n",
      "|    |    |    |\n",
      "\n",
      "Your turn player 1\n"
     ]
    },
    {
     "name": "stdin",
     "output_type": "stream",
     "text": [
      "Enter your move (1-9):  5\n"
     ]
    },
    {
     "name": "stdout",
     "output_type": "stream",
     "text": [
      "\n",
      "| X | O |    |\n",
      "|    | X |    |\n",
      "|    |    |    |\n",
      "\n",
      "Your turn player 2\n"
     ]
    },
    {
     "name": "stdin",
     "output_type": "stream",
     "text": [
      "Enter your move (1-9):  9\n"
     ]
    },
    {
     "name": "stdout",
     "output_type": "stream",
     "text": [
      "\n",
      "| X | O |    |\n",
      "|    | X |    |\n",
      "|    |    | O |\n",
      "\n",
      "Your turn player 1\n"
     ]
    },
    {
     "name": "stdin",
     "output_type": "stream",
     "text": [
      "Enter your move (1-9):  4\n"
     ]
    },
    {
     "name": "stdout",
     "output_type": "stream",
     "text": [
      "\n",
      "| X | O |    |\n",
      "| X | X |    |\n",
      "|    |    | O |\n",
      "\n",
      "Your turn player 2\n"
     ]
    },
    {
     "name": "stdin",
     "output_type": "stream",
     "text": [
      "Enter your move (1-9):  7\n"
     ]
    },
    {
     "name": "stdout",
     "output_type": "stream",
     "text": [
      "\n",
      "| X | O |    |\n",
      "| X | X |    |\n",
      "| O |    | O |\n",
      "\n",
      "Your turn player 1\n"
     ]
    },
    {
     "name": "stdin",
     "output_type": "stream",
     "text": [
      "Enter your move (1-9):  8\n"
     ]
    },
    {
     "name": "stdout",
     "output_type": "stream",
     "text": [
      "\n",
      "| X | O |    |\n",
      "| X | X |    |\n",
      "| O | X | O |\n",
      "\n",
      "Your turn player 2\n"
     ]
    },
    {
     "name": "stdin",
     "output_type": "stream",
     "text": [
      "Enter your move (1-9):  6\n"
     ]
    },
    {
     "name": "stdout",
     "output_type": "stream",
     "text": [
      "\n",
      "| X | O |    |\n",
      "| X | X | O |\n",
      "| O | X | O |\n",
      "\n",
      "Your turn player 1\n"
     ]
    },
    {
     "name": "stdin",
     "output_type": "stream",
     "text": [
      "Enter your move (1-9):  3\n"
     ]
    },
    {
     "name": "stdout",
     "output_type": "stream",
     "text": [
      "\n",
      "| X | O | X |\n",
      "| X | X | O |\n",
      "| O | X | O |\n",
      "\n",
      "Its a draw!\n"
     ]
    }
   ],
   "source": [
    "board = [\"  \" for i in range(9)]\n",
    "\n",
    "def print_board():\n",
    "    row1 = \"| {} | {} | {} |\".format(board[0], board[1], board[2])\n",
    "    row2 = \"| {} | {} | {} |\".format(board[3], board[4], board[5])\n",
    "    row3 = \"| {} | {} | {} |\".format(board[6], board[7], board[8])\n",
    "\n",
    "    print()\n",
    "    print(row1)\n",
    "    print(row2)\n",
    "    print(row3)\n",
    "    print()\n",
    "\n",
    "def player_move(icon):\n",
    "    \n",
    "    if icon == \"X\":\n",
    "        number = 1\n",
    "    elif icon == \"O\":\n",
    "        number = 2\n",
    "        \n",
    "    print(\"Your turn player {}\".format(number))\n",
    "    \n",
    "    choice = int(input(\"Enter your move (1-9): \").strip())\n",
    "    if board[choice -1] == \"  \":\n",
    "        board[choice -1 ] = icon\n",
    "    else:\n",
    "        print()\n",
    "        print(\"That space is taken!\")\n",
    "\n",
    "def is_victory(icon):\n",
    "    if (board[0] == icon and board[1] == icon and board[2] == icon) or \\\n",
    "       (board[3] == icon and board[4] == icon and board[5] == icon) or \\\n",
    "       (board[6] == icon and board[7] == icon and board[8] == icon) or \\\n",
    "       (board[0] == icon and board[3] == icon and board[6] == icon) or \\\n",
    "       (board[1] == icon and board[4] == icon and board[7] == icon) or \\\n",
    "       (board[2] == icon and board[5] == icon and board[8] == icon) or \\\n",
    "       (board[0] == icon and board[4] == icon and board[8] == icon) or \\\n",
    "       (board[2] == icon and board[4] == icon and board[6] == icon):\n",
    "        return True\n",
    "    else:\n",
    "        return False\n",
    "    \n",
    "def is_draw():\n",
    "    if \"  \" not in board:\n",
    "        return True\n",
    "    else:\n",
    "        return False\n",
    "\n",
    "while True:\n",
    "    print_board()\n",
    "    player_move(\"X\")\n",
    "    print_board()\n",
    "    if is_victory(\"X\"):\n",
    "        print(\"X Wins! Congratulations!\")\n",
    "        break\n",
    "    elif is_draw():\n",
    "        print(\"Its a draw!\")\n",
    "        break\n",
    "    player_move(\"O\")\n",
    "    if is_victory(\"O\"):\n",
    "        print_board()\n",
    "        print(\"O Wins! Congratulations!\")\n",
    "        break\n",
    "    elif is_draw():\n",
    "        print(\"Its a draw!\")\n",
    "        break"
   ]
  }
 ],
 "metadata": {
  "kernelspec": {
   "display_name": "Python 3 (ipykernel)",
   "language": "python",
   "name": "python3"
  },
  "language_info": {
   "codemirror_mode": {
    "name": "ipython",
    "version": 3
   },
   "file_extension": ".py",
   "mimetype": "text/x-python",
   "name": "python",
   "nbconvert_exporter": "python",
   "pygments_lexer": "ipython3",
   "version": "3.10.4"
  }
 },
 "nbformat": 4,
 "nbformat_minor": 5
}
