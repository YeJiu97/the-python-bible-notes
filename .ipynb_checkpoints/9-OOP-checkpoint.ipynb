{
 "cells": [
  {
   "cell_type": "markdown",
   "id": "d42709b7-827b-456e-8d31-d30ab1f35484",
   "metadata": {},
   "source": [
    "## 创建类"
   ]
  },
  {
   "cell_type": "markdown",
   "id": "e9215b2e-ee91-43a7-aea3-dbd20f31a5ff",
   "metadata": {},
   "source": [
    "使用clas关键字来创建一个新的类："
   ]
  },
  {
   "cell_type": "code",
   "execution_count": 1,
   "id": "0c0ae945-f33a-4dfc-b82f-259442b8ad28",
   "metadata": {},
   "outputs": [],
   "source": [
    "class Employee:\n",
    "    \"\"\"关于员工的基础类\"\"\"\n",
    "    empCount = 0\n",
    "    \n",
    "    def __init__(self, name, salary):\n",
    "        self.name = name\n",
    "        self.salary = salary\n",
    "        Employee.empCount += 1\n",
    "    \n",
    "    def displayCount(self):\n",
    "        print(\"Total Employee %d\" % Employee.empCount)\n",
    "    \n",
    "    def displayEmployee(self):\n",
    "        print(\"Name : \", self.name, \", Salary: \", self.salary)"
   ]
  },
  {
   "cell_type": "markdown",
   "id": "6566c4de-a962-489d-8212-841deea40bff",
   "metadata": {},
   "source": [
    "empCount 变量是一个类变量，它的值在这个类的所有实例之间共享。\n",
    "\n",
    "```\n",
    "__init__()\n",
    "```\n",
    "\n",
    "是一种特殊的方法，被称之为类的构造函数或者初始化方法。\n",
    "\n",
    "self 代表类的实例，self在定义类的方法时是鼻血的。"
   ]
  },
  {
   "cell_type": "code",
   "execution_count": 3,
   "id": "e0dd97d4-fbae-41b9-8076-a1b56b0f08f0",
   "metadata": {},
   "outputs": [],
   "source": [
    "employee_one = Employee(\"Bob\", 1560)"
   ]
  },
  {
   "cell_type": "code",
   "execution_count": 4,
   "id": "b2a11c22-8179-4768-8eec-eef7ca6d2615",
   "metadata": {},
   "outputs": [
    {
     "data": {
      "text/plain": [
       "1"
      ]
     },
     "execution_count": 4,
     "metadata": {},
     "output_type": "execute_result"
    }
   ],
   "source": [
    "employee_one.empCount"
   ]
  },
  {
   "cell_type": "markdown",
   "id": "b8f2a6fa-83e7-4292-8c4f-32c9a55ac21c",
   "metadata": {},
   "source": [
    "## 类的方法"
   ]
  },
  {
   "cell_type": "code",
   "execution_count": 5,
   "id": "bc03fb87-e684-4cf9-939f-ee20ee65d3d4",
   "metadata": {},
   "outputs": [
    {
     "name": "stdout",
     "output_type": "stream",
     "text": [
      "runoob 说: 我 10 岁。\n"
     ]
    }
   ],
   "source": [
    "#类定义\n",
    "class people:\n",
    "    #定义基本属性\n",
    "    name = ''\n",
    "    age = 0\n",
    "    #定义私有属性,私有属性在类外部无法直接进行访问\n",
    "    __weight = 0\n",
    "    #定义构造方法\n",
    "    def __init__(self,n,a,w):\n",
    "        self.name = n\n",
    "        self.age = a\n",
    "        self.__weight = w\n",
    "    def speak(self):\n",
    "        print(\"%s 说: 我 %d 岁。\" %(self.name,self.age))\n",
    " \n",
    "# 实例化类\n",
    "p = people('runoob',10,30)\n",
    "p.speak()"
   ]
  },
  {
   "cell_type": "markdown",
   "id": "03a2bc9e-43e5-4c73-8011-343c07160c9e",
   "metadata": {},
   "source": [
    "## 继承"
   ]
  },
  {
   "cell_type": "code",
   "execution_count": 6,
   "id": "7a0ea92f-7677-4a2e-8112-6771acad539c",
   "metadata": {},
   "outputs": [
    {
     "name": "stdout",
     "output_type": "stream",
     "text": [
      "ken 说: 我 10 岁了，我在读 3 年级\n"
     ]
    }
   ],
   "source": [
    "#类定义\n",
    "class people:\n",
    "    #定义基本属性\n",
    "    name = ''\n",
    "    age = 0\n",
    "    #定义私有属性,私有属性在类外部无法直接进行访问\n",
    "    __weight = 0\n",
    "    #定义构造方法\n",
    "    def __init__(self,n,a,w):\n",
    "        self.name = n\n",
    "        self.age = a\n",
    "        self.__weight = w\n",
    "    def speak(self):\n",
    "        print(\"%s 说: 我 %d 岁。\" %(self.name,self.age))\n",
    " \n",
    "#单继承示例\n",
    "class student(people):\n",
    "    grade = ''\n",
    "    def __init__(self,n,a,w,g):\n",
    "        #调用父类的构函\n",
    "        people.__init__(self,n,a,w)\n",
    "        self.grade = g\n",
    "    #覆写父类的方法\n",
    "    def speak(self):\n",
    "        print(\"%s 说: 我 %d 岁了，我在读 %d 年级\"%(self.name,self.age,self.grade))\n",
    " \n",
    " \n",
    " \n",
    "s = student('ken',10,60,3)\n",
    "s.speak()"
   ]
  },
  {
   "cell_type": "markdown",
   "id": "8e0539c3-6ba0-4455-8de9-b6065c1c294e",
   "metadata": {},
   "source": [
    "## 方法重写"
   ]
  },
  {
   "cell_type": "code",
   "execution_count": 7,
   "id": "5682e2c0-7033-4c99-af3e-842bc6812fce",
   "metadata": {},
   "outputs": [
    {
     "name": "stdout",
     "output_type": "stream",
     "text": [
      "调用子类方法\n",
      "调用父类方法\n"
     ]
    }
   ],
   "source": [
    "#!/usr/bin/python3\n",
    " \n",
    "class Parent:        # 定义父类\n",
    "   def myMethod(self):\n",
    "      print ('调用父类方法')\n",
    " \n",
    "class Child(Parent): # 定义子类\n",
    "   def myMethod(self):\n",
    "      print ('调用子类方法')\n",
    " \n",
    "c = Child()          # 子类实例\n",
    "c.myMethod()         # 子类调用重写方法\n",
    "super(Child,c).myMethod() #用子类对象调用父类已被覆盖的方法"
   ]
  }
 ],
 "metadata": {
  "kernelspec": {
   "display_name": "Python 3 (ipykernel)",
   "language": "python",
   "name": "python3"
  },
  "language_info": {
   "codemirror_mode": {
    "name": "ipython",
    "version": 3
   },
   "file_extension": ".py",
   "mimetype": "text/x-python",
   "name": "python",
   "nbconvert_exporter": "python",
   "pygments_lexer": "ipython3",
   "version": "3.10.5"
  }
 },
 "nbformat": 4,
 "nbformat_minor": 5
}
