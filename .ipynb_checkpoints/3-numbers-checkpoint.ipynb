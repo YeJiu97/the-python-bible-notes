{
 "cells": [
  {
   "cell_type": "markdown",
   "id": "3df4f445-d09a-40bc-adcc-1e9b9e9072fc",
   "metadata": {},
   "source": [
    "## 基础计算"
   ]
  },
  {
   "cell_type": "markdown",
   "id": "53348441-7a71-45ec-ab6c-c977e3d88cdb",
   "metadata": {},
   "source": [
    "Python支持进行最基础的四则运算："
   ]
  },
  {
   "cell_type": "code",
   "execution_count": 1,
   "id": "1336e541-3aa0-4d65-a3b4-8e1aea07553a",
   "metadata": {},
   "outputs": [],
   "source": [
    "a = 10\n",
    "b = 20"
   ]
  },
  {
   "cell_type": "code",
   "execution_count": 2,
   "id": "dad296de-e6dc-4a21-8c14-76efbef1e62d",
   "metadata": {},
   "outputs": [
    {
     "data": {
      "text/plain": [
       "30"
      ]
     },
     "execution_count": 2,
     "metadata": {},
     "output_type": "execute_result"
    }
   ],
   "source": [
    "a+b"
   ]
  },
  {
   "cell_type": "code",
   "execution_count": 3,
   "id": "261d5126-311b-488c-a846-aaa7a92d289f",
   "metadata": {},
   "outputs": [
    {
     "data": {
      "text/plain": [
       "-10"
      ]
     },
     "execution_count": 3,
     "metadata": {},
     "output_type": "execute_result"
    }
   ],
   "source": [
    "a-b"
   ]
  },
  {
   "cell_type": "code",
   "execution_count": 4,
   "id": "92a0eb97-fa7b-4242-8082-8823dd212090",
   "metadata": {},
   "outputs": [
    {
     "data": {
      "text/plain": [
       "200"
      ]
     },
     "execution_count": 4,
     "metadata": {},
     "output_type": "execute_result"
    }
   ],
   "source": [
    "a*b"
   ]
  },
  {
   "cell_type": "code",
   "execution_count": 5,
   "id": "c7443c9a-8fc3-40ce-8ab7-cc6e04f2e256",
   "metadata": {},
   "outputs": [
    {
     "data": {
      "text/plain": [
       "0.5"
      ]
     },
     "execution_count": 5,
     "metadata": {},
     "output_type": "execute_result"
    }
   ],
   "source": [
    "a/b"
   ]
  },
  {
   "cell_type": "markdown",
   "id": "9b08cfd3-3056-47f7-961e-8d12d1da8634",
   "metadata": {},
   "source": [
    "## 括号"
   ]
  },
  {
   "cell_type": "markdown",
   "id": "c770ccee-0774-4cb6-aed7-7af7cc0d4f9e",
   "metadata": {},
   "source": [
    "在Python语言对数据进行计算的时候，括号的作用与括号在数学计算中的作用是相同的："
   ]
  },
  {
   "cell_type": "code",
   "execution_count": 6,
   "id": "5d782547-2bf8-45bd-8ec3-0ba80ff8f9ac",
   "metadata": {},
   "outputs": [
    {
     "data": {
      "text/plain": [
       "80"
      ]
     },
     "execution_count": 6,
     "metadata": {},
     "output_type": "execute_result"
    }
   ],
   "source": [
    "a * a - b"
   ]
  },
  {
   "cell_type": "code",
   "execution_count": 7,
   "id": "8816c86b-e0c2-4ca5-ad6d-6b6fadeddd3a",
   "metadata": {},
   "outputs": [
    {
     "data": {
      "text/plain": [
       "-100"
      ]
     },
     "execution_count": 7,
     "metadata": {},
     "output_type": "execute_result"
    }
   ],
   "source": [
    "a * (a - b)"
   ]
  },
  {
   "cell_type": "markdown",
   "id": "f6d46631-875a-41aa-b1c1-8ef6144db4c0",
   "metadata": {},
   "source": [
    "## 一些特殊的计算"
   ]
  },
  {
   "cell_type": "markdown",
   "id": "6f7ada76-0d40-40c6-a60e-b81f7404f946",
   "metadata": {},
   "source": [
    "求余数："
   ]
  },
  {
   "cell_type": "code",
   "execution_count": 8,
   "id": "281e25e7-4065-438f-964b-92ab9baef528",
   "metadata": {},
   "outputs": [
    {
     "data": {
      "text/plain": [
       "1"
      ]
     },
     "execution_count": 8,
     "metadata": {},
     "output_type": "execute_result"
    }
   ],
   "source": [
    "5%2"
   ]
  },
  {
   "cell_type": "markdown",
   "id": "617c0dec-e757-4de6-8997-9a9250893dbb",
   "metadata": {},
   "source": [
    "平方："
   ]
  },
  {
   "cell_type": "code",
   "execution_count": 9,
   "id": "0694a0a3-0f23-4fea-98ca-8b13bf08f3f4",
   "metadata": {},
   "outputs": [
    {
     "data": {
      "text/plain": [
       "25"
      ]
     },
     "execution_count": 9,
     "metadata": {},
     "output_type": "execute_result"
    }
   ],
   "source": [
    "5**2"
   ]
  },
  {
   "cell_type": "markdown",
   "id": "ab459d0e-06d7-4c5f-bb61-9a37c1fb0c82",
   "metadata": {},
   "source": [
    "立方："
   ]
  },
  {
   "cell_type": "code",
   "execution_count": 10,
   "id": "3f48ae80-8782-4cca-9065-97697de6974f",
   "metadata": {},
   "outputs": [
    {
     "data": {
      "text/plain": [
       "125"
      ]
     },
     "execution_count": 10,
     "metadata": {},
     "output_type": "execute_result"
    }
   ],
   "source": [
    "5**3"
   ]
  },
  {
   "cell_type": "markdown",
   "id": "31b37e34-fb89-4ade-be61-30716c0a13ac",
   "metadata": {},
   "source": [
    "## Random 模块"
   ]
  },
  {
   "cell_type": "markdown",
   "id": "6acca8ac-5edf-42f5-a85c-800925493b0e",
   "metadata": {},
   "source": [
    "常用的一个模块就是random，这个模块是Python语言自带的模块。"
   ]
  },
  {
   "cell_type": "markdown",
   "id": "e367658e-2e0c-45ec-921f-56a6e557ae54",
   "metadata": {},
   "source": [
    "我们可以使用random模块来实现一个猜数字游戏："
   ]
  },
  {
   "cell_type": "code",
   "execution_count": 13,
   "id": "4d926bfa-b293-4c4e-80e4-a766fd29e4b5",
   "metadata": {},
   "outputs": [],
   "source": [
    "import random"
   ]
  },
  {
   "cell_type": "code",
   "execution_count": 14,
   "id": "0822faeb-ba7c-46a4-a809-f72a723466c5",
   "metadata": {},
   "outputs": [],
   "source": [
    "num = random.randint(0, 100)  # 这将会生成一个0～100之间的整数"
   ]
  },
  {
   "cell_type": "code",
   "execution_count": 15,
   "id": "74dc01b0-eed7-423b-b720-114c0f5d9083",
   "metadata": {},
   "outputs": [
    {
     "name": "stdin",
     "output_type": "stream",
     "text": [
      "Please enter a number here:  20\n"
     ]
    }
   ],
   "source": [
    "guess_num = int(input('Please enter a number here: '))"
   ]
  },
  {
   "cell_type": "code",
   "execution_count": 19,
   "id": "45903db4-a85a-4dd3-acd5-e6d46ccb067f",
   "metadata": {},
   "outputs": [
    {
     "name": "stdout",
     "output_type": "stream",
     "text": [
      "Your are wrong!\n",
      "The real number is: 49\n"
     ]
    }
   ],
   "source": [
    "if guess_num == num:\n",
    "    print(\"You are right!\")\n",
    "else:\n",
    "    print(\"Your are wrong!\")\n",
    "    print(\"The real number is:\", num)"
   ]
  },
  {
   "cell_type": "markdown",
   "id": "35890ece-add1-486b-8837-9b0b571c77da",
   "metadata": {},
   "source": [
    "## Math 模块"
   ]
  },
  {
   "cell_type": "markdown",
   "id": "6610ee27-235c-4fcb-bb98-249234316b48",
   "metadata": {},
   "source": [
    "Python可以使用round()函数来进行四舍五入："
   ]
  },
  {
   "cell_type": "code",
   "execution_count": 20,
   "id": "13807e7f-c82d-4e40-8db6-33f6072462a8",
   "metadata": {},
   "outputs": [
    {
     "data": {
      "text/plain": [
       "1"
      ]
     },
     "execution_count": 20,
     "metadata": {},
     "output_type": "execute_result"
    }
   ],
   "source": [
    "round(1.2)"
   ]
  },
  {
   "cell_type": "code",
   "execution_count": 21,
   "id": "9bd17462-d883-491c-9e6a-043c21b33853",
   "metadata": {},
   "outputs": [
    {
     "data": {
      "text/plain": [
       "2"
      ]
     },
     "execution_count": 21,
     "metadata": {},
     "output_type": "execute_result"
    }
   ],
   "source": [
    "round(1.8)"
   ]
  },
  {
   "cell_type": "markdown",
   "id": "0808c1ff-42f7-4956-b6c1-52a2e59faa39",
   "metadata": {},
   "source": [
    "但是如果我们需要更多的数学操作，我们则需要导入math模块来："
   ]
  },
  {
   "cell_type": "code",
   "execution_count": 22,
   "id": "88368016-c45d-4ec6-b18e-f84e694a20f2",
   "metadata": {},
   "outputs": [],
   "source": [
    "import math"
   ]
  },
  {
   "cell_type": "markdown",
   "id": "115d417a-09da-457b-a7db-d15b9052ac86",
   "metadata": {},
   "source": [
    "我们来测试一下floor()函数："
   ]
  },
  {
   "cell_type": "code",
   "execution_count": 23,
   "id": "e5c4f0cb-69ac-47e7-90fc-7fbf8dd7845c",
   "metadata": {},
   "outputs": [
    {
     "data": {
      "text/plain": [
       "1"
      ]
     },
     "execution_count": 23,
     "metadata": {},
     "output_type": "execute_result"
    }
   ],
   "source": [
    "math.floor(1.5)"
   ]
  },
  {
   "cell_type": "code",
   "execution_count": 24,
   "id": "3fa2f937-0d56-40d1-987d-8fcffa5da7b1",
   "metadata": {},
   "outputs": [
    {
     "data": {
      "text/plain": [
       "1"
      ]
     },
     "execution_count": 24,
     "metadata": {},
     "output_type": "execute_result"
    }
   ],
   "source": [
    "math.floor(1.9)"
   ]
  },
  {
   "cell_type": "code",
   "execution_count": 25,
   "id": "8880ca82-ac96-49d2-aefa-40b5aba4eb0f",
   "metadata": {},
   "outputs": [
    {
     "data": {
      "text/plain": [
       "2"
      ]
     },
     "execution_count": 25,
     "metadata": {},
     "output_type": "execute_result"
    }
   ],
   "source": [
    "math.floor(2.5)"
   ]
  },
  {
   "cell_type": "markdown",
   "id": "9254cf57-fde1-4ab3-98da-b23513c06601",
   "metadata": {},
   "source": [
    "可以发现floor()会将小数的部分直接去除掉。"
   ]
  },
  {
   "cell_type": "markdown",
   "id": "416ace0c-e632-490d-823e-2601f3e297ab",
   "metadata": {},
   "source": [
    "但是我们可以尝试一下负数："
   ]
  },
  {
   "cell_type": "code",
   "execution_count": 26,
   "id": "538eaf36-f4d8-4c37-93e2-1cd734c8549b",
   "metadata": {},
   "outputs": [
    {
     "data": {
      "text/plain": [
       "-4"
      ]
     },
     "execution_count": 26,
     "metadata": {},
     "output_type": "execute_result"
    }
   ],
   "source": [
    "math.floor(-3.2)"
   ]
  },
  {
   "cell_type": "code",
   "execution_count": 27,
   "id": "c06544bd-ba7b-40ed-b3b3-731127485b2c",
   "metadata": {},
   "outputs": [
    {
     "data": {
      "text/plain": [
       "-5"
      ]
     },
     "execution_count": 27,
     "metadata": {},
     "output_type": "execute_result"
    }
   ],
   "source": [
    "math.floor(-4.8)"
   ]
  },
  {
   "cell_type": "markdown",
   "id": "98b83442-4897-4cf4-9f39-b0600517f1c1",
   "metadata": {},
   "source": [
    "可以发现floor(）实际上是向下取整。\n",
    "\n",
    "-3.2的下一个整数是-4。"
   ]
  },
  {
   "cell_type": "markdown",
   "id": "31bfca1b-e8ca-4185-99c5-766450720166",
   "metadata": {},
   "source": [
    "接着我们来测试一下ceil()函数："
   ]
  },
  {
   "cell_type": "code",
   "execution_count": 28,
   "id": "f3c360a4-ae2b-4640-bbd2-2ac8c089ebad",
   "metadata": {},
   "outputs": [
    {
     "data": {
      "text/plain": [
       "4"
      ]
     },
     "execution_count": 28,
     "metadata": {},
     "output_type": "execute_result"
    }
   ],
   "source": [
    "math.ceil(3.2)"
   ]
  },
  {
   "cell_type": "code",
   "execution_count": 29,
   "id": "113757d6-9af7-4ad7-9193-46f47499e0bb",
   "metadata": {},
   "outputs": [
    {
     "data": {
      "text/plain": [
       "4"
      ]
     },
     "execution_count": 29,
     "metadata": {},
     "output_type": "execute_result"
    }
   ],
   "source": [
    "math.ceil(3.6)"
   ]
  },
  {
   "cell_type": "code",
   "execution_count": 30,
   "id": "e62ee7aa-791d-4bf9-b1d8-5196a93a04ab",
   "metadata": {},
   "outputs": [
    {
     "data": {
      "text/plain": [
       "-3"
      ]
     },
     "execution_count": 30,
     "metadata": {},
     "output_type": "execute_result"
    }
   ],
   "source": [
    "math.ceil(-3.5)"
   ]
  },
  {
   "cell_type": "markdown",
   "id": "0e46daa2-df51-48d5-ba4f-240e85c8c453",
   "metadata": {},
   "source": [
    "可以发现ceil()和floor()恰好相反，是向上取整。"
   ]
  },
  {
   "cell_type": "markdown",
   "id": "b37cf429-a0db-4df2-a717-38cb19610b13",
   "metadata": {},
   "source": [
    "我们可以使用math来获得pi的值："
   ]
  },
  {
   "cell_type": "code",
   "execution_count": 31,
   "id": "f9e93733-cd1a-489c-8aac-b073f4aa6898",
   "metadata": {},
   "outputs": [
    {
     "data": {
      "text/plain": [
       "3.141592653589793"
      ]
     },
     "execution_count": 31,
     "metadata": {},
     "output_type": "execute_result"
    }
   ],
   "source": [
    "math.pi"
   ]
  },
  {
   "cell_type": "markdown",
   "id": "58d1f017-67d0-4907-b893-c3858da152d9",
   "metadata": {},
   "source": [
    "使用math自带的三角函数："
   ]
  },
  {
   "cell_type": "code",
   "execution_count": 32,
   "id": "fbdb1a10-28ea-4841-92f3-a5764f1365d4",
   "metadata": {},
   "outputs": [
    {
     "data": {
      "text/plain": [
       "1.0"
      ]
     },
     "execution_count": 32,
     "metadata": {},
     "output_type": "execute_result"
    }
   ],
   "source": [
    "math.sin(math.pi / 2)"
   ]
  },
  {
   "cell_type": "code",
   "execution_count": 33,
   "id": "d3fccb10-2e19-484f-bcad-d003fae2897f",
   "metadata": {},
   "outputs": [
    {
     "data": {
      "text/plain": [
       "1.0"
      ]
     },
     "execution_count": 33,
     "metadata": {},
     "output_type": "execute_result"
    }
   ],
   "source": [
    "math.cos(0)"
   ]
  },
  {
   "cell_type": "code",
   "execution_count": 34,
   "id": "a5a2f599-fd66-4ce4-8380-e7c6b675cbce",
   "metadata": {},
   "outputs": [
    {
     "data": {
      "text/plain": [
       "1.5707963267948966"
      ]
     },
     "execution_count": 34,
     "metadata": {},
     "output_type": "execute_result"
    }
   ],
   "source": [
    "math.acos(0)"
   ]
  },
  {
   "cell_type": "markdown",
   "id": "f348969c-8bb4-41a7-96ff-43c2c0c5134c",
   "metadata": {},
   "source": [
    "或者使用pow()函数："
   ]
  },
  {
   "cell_type": "code",
   "execution_count": 37,
   "id": "9b6767b4-0fe4-422b-b04e-e72536c706fc",
   "metadata": {},
   "outputs": [
    {
     "data": {
      "text/plain": [
       "81.0"
      ]
     },
     "execution_count": 37,
     "metadata": {},
     "output_type": "execute_result"
    }
   ],
   "source": [
    "math.pow(9, 2)"
   ]
  },
  {
   "cell_type": "markdown",
   "id": "32e9d8f6-e2bb-4408-9cdd-4d3e7df053cd",
   "metadata": {},
   "source": [
    "或者使用exp()函数："
   ]
  },
  {
   "cell_type": "code",
   "execution_count": 38,
   "id": "24962732-1bad-4e3f-9286-5c45d2e265c1",
   "metadata": {},
   "outputs": [
    {
     "data": {
      "text/plain": [
       "7.38905609893065"
      ]
     },
     "execution_count": 38,
     "metadata": {},
     "output_type": "execute_result"
    }
   ],
   "source": [
    "math.exp(2)"
   ]
  },
  {
   "cell_type": "markdown",
   "id": "691d2b64-b298-45a9-a99b-1cfa573966f9",
   "metadata": {},
   "source": [
    "或者使用log()函数："
   ]
  },
  {
   "cell_type": "code",
   "execution_count": 39,
   "id": "4a1d571e-98fd-43ec-9040-4b4471bc6a44",
   "metadata": {},
   "outputs": [
    {
     "data": {
      "text/plain": [
       "2.302585092994046"
      ]
     },
     "execution_count": 39,
     "metadata": {},
     "output_type": "execute_result"
    }
   ],
   "source": [
    "math.log(10)"
   ]
  }
 ],
 "metadata": {
  "kernelspec": {
   "display_name": "Python 3 (ipykernel)",
   "language": "python",
   "name": "python3"
  },
  "language_info": {
   "codemirror_mode": {
    "name": "ipython",
    "version": 3
   },
   "file_extension": ".py",
   "mimetype": "text/x-python",
   "name": "python",
   "nbconvert_exporter": "python",
   "pygments_lexer": "ipython3",
   "version": "3.10.4"
  }
 },
 "nbformat": 4,
 "nbformat_minor": 5
}
