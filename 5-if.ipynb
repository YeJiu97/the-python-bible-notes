{
 "cells": [
  {
   "cell_type": "markdown",
   "id": "2d93b63f-ff2d-4d24-a146-a68a93381e8c",
   "metadata": {},
   "source": [
    "## 布尔与比较判断"
   ]
  },
  {
   "cell_type": "markdown",
   "id": "ec2b54a4-e1c1-48ca-add2-aa1a1a7212b6",
   "metadata": {},
   "source": [
    "布尔值是一种取值仅能为真或假的数据类型。\n",
    "\n",
    "常见的条件判断有：\n",
    "\n",
    "1. ==\n",
    "2. '>'\n",
    "3. <\n",
    "4. not\n",
    "5. is\n",
    "6. is not"
   ]
  },
  {
   "cell_type": "markdown",
   "id": "815630bc-157c-4ba5-8318-c81d68ce0df2",
   "metadata": {},
   "source": [
    "我们来测试一下："
   ]
  },
  {
   "cell_type": "code",
   "execution_count": 1,
   "id": "79af95d2-3b8b-4698-811a-0ce218c1af1c",
   "metadata": {},
   "outputs": [],
   "source": [
    "a = 10\n",
    "b = 20"
   ]
  },
  {
   "cell_type": "code",
   "execution_count": 2,
   "id": "c360c4aa-1098-4bf3-88b2-8ff0ba37e2af",
   "metadata": {},
   "outputs": [
    {
     "data": {
      "text/plain": [
       "False"
      ]
     },
     "execution_count": 2,
     "metadata": {},
     "output_type": "execute_result"
    }
   ],
   "source": [
    "a == b"
   ]
  },
  {
   "cell_type": "code",
   "execution_count": 3,
   "id": "24d4a648-ef64-4e69-9b39-ab6527395607",
   "metadata": {},
   "outputs": [
    {
     "data": {
      "text/plain": [
       "False"
      ]
     },
     "execution_count": 3,
     "metadata": {},
     "output_type": "execute_result"
    }
   ],
   "source": [
    "a > b"
   ]
  },
  {
   "cell_type": "code",
   "execution_count": 4,
   "id": "c36b53a8-96fc-437d-950e-60894173f423",
   "metadata": {},
   "outputs": [
    {
     "data": {
      "text/plain": [
       "True"
      ]
     },
     "execution_count": 4,
     "metadata": {},
     "output_type": "execute_result"
    }
   ],
   "source": [
    "a < b"
   ]
  },
  {
   "cell_type": "code",
   "execution_count": 5,
   "id": "a42a1877-455d-42c6-b0f4-92b36dbfe305",
   "metadata": {},
   "outputs": [
    {
     "data": {
      "text/plain": [
       "False"
      ]
     },
     "execution_count": 5,
     "metadata": {},
     "output_type": "execute_result"
    }
   ],
   "source": [
    "a is b"
   ]
  },
  {
   "cell_type": "code",
   "execution_count": 7,
   "id": "5229f180-e119-4e5e-962b-560cbabf583b",
   "metadata": {},
   "outputs": [
    {
     "data": {
      "text/plain": [
       "True"
      ]
     },
     "execution_count": 7,
     "metadata": {},
     "output_type": "execute_result"
    }
   ],
   "source": [
    "a is not b"
   ]
  },
  {
   "cell_type": "code",
   "execution_count": 8,
   "id": "3f922fff-194c-4d0f-a9ff-4931b3522281",
   "metadata": {},
   "outputs": [
    {
     "data": {
      "text/plain": [
       "False"
      ]
     },
     "execution_count": 8,
     "metadata": {},
     "output_type": "execute_result"
    }
   ],
   "source": [
    "not a"
   ]
  },
  {
   "cell_type": "code",
   "execution_count": 9,
   "id": "ff4aecf8-cb91-40b3-b13d-3d2b86cb642a",
   "metadata": {},
   "outputs": [
    {
     "data": {
      "text/plain": [
       "False"
      ]
     },
     "execution_count": 9,
     "metadata": {},
     "output_type": "execute_result"
    }
   ],
   "source": [
    "not b"
   ]
  },
  {
   "cell_type": "code",
   "execution_count": 10,
   "id": "5fa11c33-1ba7-413c-976e-829af3408c8e",
   "metadata": {},
   "outputs": [
    {
     "data": {
      "text/plain": [
       "True"
      ]
     },
     "execution_count": 10,
     "metadata": {},
     "output_type": "execute_result"
    }
   ],
   "source": [
    "not 0"
   ]
  },
  {
   "cell_type": "code",
   "execution_count": 11,
   "id": "3260cfe5-2a14-4c1f-b4f8-fb5faec1c1ac",
   "metadata": {},
   "outputs": [
    {
     "data": {
      "text/plain": [
       "False"
      ]
     },
     "execution_count": 11,
     "metadata": {},
     "output_type": "execute_result"
    }
   ],
   "source": [
    "not 1"
   ]
  },
  {
   "cell_type": "markdown",
   "id": "5b490a31-d7da-4508-b6b7-92120d5a45a0",
   "metadata": {},
   "source": [
    "## if statement"
   ]
  },
  {
   "cell_type": "markdown",
   "id": "27fcea8c-6646-4422-9336-ec342d18467a",
   "metadata": {},
   "source": [
    "if语句可以用来进行条件判断。\n",
    "\n",
    "if关键字之后需要跟随的是条件判断语句，判断的结果为布尔值。"
   ]
  },
  {
   "cell_type": "code",
   "execution_count": 14,
   "id": "c780e6f9-6562-454f-a289-ba14e85559a4",
   "metadata": {},
   "outputs": [],
   "source": [
    "num_1 = 10\n",
    "num_2 = 20"
   ]
  },
  {
   "cell_type": "code",
   "execution_count": 15,
   "id": "a9512914-49fa-4190-8126-e9b1c27fd918",
   "metadata": {},
   "outputs": [
    {
     "name": "stdout",
     "output_type": "stream",
     "text": [
      "num_1 < num_2\n"
     ]
    }
   ],
   "source": [
    "if num_1 > num_2:\n",
    "    print(\"num_1 > num_2\")\n",
    "else:\n",
    "    print(\"num_1 < num_2\")"
   ]
  },
  {
   "cell_type": "markdown",
   "id": "f688ad2a-3cb4-4f7e-9bb8-462d76f98015",
   "metadata": {},
   "source": [
    "如果有多种可能的情况："
   ]
  },
  {
   "cell_type": "code",
   "execution_count": 16,
   "id": "ac3d840e-cae7-4894-ad65-c6647b8f9080",
   "metadata": {},
   "outputs": [],
   "source": [
    "num_1 = 10\n",
    "num_2 = 20\n",
    "num_3 = 15"
   ]
  },
  {
   "cell_type": "code",
   "execution_count": 17,
   "id": "5f2d9848-07d6-4ea4-a329-fe06f7f13a4e",
   "metadata": {},
   "outputs": [
    {
     "name": "stdout",
     "output_type": "stream",
     "text": [
      "num_2 is the largest number\n"
     ]
    }
   ],
   "source": [
    "if num_1 > num_2 and num_1 > num_3:\n",
    "    print(\"num_1 is the largest number\")\n",
    "elif num_2 > num_1 and num_2 > num_3:\n",
    "    print(\"num_2 is the largest number\")\n",
    "else:\n",
    "    print(\"num_3 is the largest number\")"
   ]
  },
  {
   "cell_type": "markdown",
   "id": "7077554f-ff62-4769-8481-c45cf6da5d64",
   "metadata": {},
   "source": [
    "需要注意的是，else之后不能够跟随任何的条件判断语句，因为else是“if-elif”之外的所有的情况。"
   ]
  }
 ],
 "metadata": {
  "kernelspec": {
   "display_name": "Python 3 (ipykernel)",
   "language": "python",
   "name": "python3"
  },
  "language_info": {
   "codemirror_mode": {
    "name": "ipython",
    "version": 3
   },
   "file_extension": ".py",
   "mimetype": "text/x-python",
   "name": "python",
   "nbconvert_exporter": "python",
   "pygments_lexer": "ipython3",
   "version": "3.10.4"
  }
 },
 "nbformat": 4,
 "nbformat_minor": 5
}
