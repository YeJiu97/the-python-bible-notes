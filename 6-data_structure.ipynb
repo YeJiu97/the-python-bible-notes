{
 "cells": [
  {
   "cell_type": "markdown",
   "id": "e9cfe776-c0f0-4afc-9e95-c9647488817b",
   "metadata": {},
   "source": [
    "## list"
   ]
  },
  {
   "cell_type": "markdown",
   "id": "36d66198-89f2-48f4-b292-d24c1d859b9b",
   "metadata": {},
   "source": [
    "序列是 Python 中最基本的数据结构。\n",
    "\n",
    "序列中的每个值都有对应的位置值，称之为索引，第一个索引是 0，第二个索引是 1，依此类推。"
   ]
  },
  {
   "cell_type": "code",
   "execution_count": 1,
   "id": "73c75762-0971-4fa4-aef8-ed87b1f50c6c",
   "metadata": {},
   "outputs": [],
   "source": [
    "list_1 = [\"Baidu\", \"Google\", \"Facebook\"]"
   ]
  },
  {
   "cell_type": "code",
   "execution_count": 2,
   "id": "db894972-e8ee-4110-88c4-26099aaf206f",
   "metadata": {},
   "outputs": [
    {
     "data": {
      "text/plain": [
       "'Baidu'"
      ]
     },
     "execution_count": 2,
     "metadata": {},
     "output_type": "execute_result"
    }
   ],
   "source": [
    "list_1[0]"
   ]
  },
  {
   "cell_type": "code",
   "execution_count": 3,
   "id": "a7bf1eed-3211-495e-b452-cd18232610dd",
   "metadata": {},
   "outputs": [
    {
     "data": {
      "text/plain": [
       "'Facebook'"
      ]
     },
     "execution_count": 3,
     "metadata": {},
     "output_type": "execute_result"
    }
   ],
   "source": [
    "list_1[-1]"
   ]
  },
  {
   "cell_type": "code",
   "execution_count": 5,
   "id": "b3708372-3258-42b2-814b-c162eff61298",
   "metadata": {},
   "outputs": [
    {
     "data": {
      "text/plain": [
       "['Baidu', 'Google']"
      ]
     },
     "execution_count": 5,
     "metadata": {},
     "output_type": "execute_result"
    }
   ],
   "source": [
    "list_1[0:2]"
   ]
  },
  {
   "cell_type": "code",
   "execution_count": 11,
   "id": "fd5408ef-2a90-482e-9982-8648c65feb94",
   "metadata": {},
   "outputs": [
    {
     "data": {
      "text/plain": [
       "['Facebook', 'Google']"
      ]
     },
     "execution_count": 11,
     "metadata": {},
     "output_type": "execute_result"
    }
   ],
   "source": [
    "list_1[2:0:-1]"
   ]
  },
  {
   "cell_type": "code",
   "execution_count": 13,
   "id": "0b578721-65e2-496b-bbfe-2ee9825dcabc",
   "metadata": {},
   "outputs": [
    {
     "data": {
      "text/plain": [
       "['Facebook', 'Google', 'Baidu']"
      ]
     },
     "execution_count": 13,
     "metadata": {},
     "output_type": "execute_result"
    }
   ],
   "source": [
    "list_1[::-1]"
   ]
  },
  {
   "cell_type": "markdown",
   "id": "2f299129-acd7-480f-bf9e-954ca906bd6c",
   "metadata": {},
   "source": [
    "查看列表的长度："
   ]
  },
  {
   "cell_type": "code",
   "execution_count": 14,
   "id": "3e941bd5-a8a8-42d5-97ea-c74a4145f856",
   "metadata": {},
   "outputs": [
    {
     "data": {
      "text/plain": [
       "3"
      ]
     },
     "execution_count": 14,
     "metadata": {},
     "output_type": "execute_result"
    }
   ],
   "source": [
    "len(list_1)"
   ]
  },
  {
   "cell_type": "markdown",
   "id": "fae2c046-04c1-48e3-b0d6-12b0cf1e54fb",
   "metadata": {},
   "source": [
    "添加一个元素到列表中："
   ]
  },
  {
   "cell_type": "code",
   "execution_count": 15,
   "id": "daf44522-16f8-40bf-a9ee-66c742411686",
   "metadata": {},
   "outputs": [],
   "source": [
    "list_1.append(\"Alibaba\")"
   ]
  },
  {
   "cell_type": "code",
   "execution_count": 16,
   "id": "b03d3274-a3a6-423e-9bec-aea390986d45",
   "metadata": {},
   "outputs": [
    {
     "data": {
      "text/plain": [
       "['Baidu', 'Google', 'Facebook', 'Alibaba']"
      ]
     },
     "execution_count": 16,
     "metadata": {},
     "output_type": "execute_result"
    }
   ],
   "source": [
    "list_1"
   ]
  },
  {
   "cell_type": "markdown",
   "id": "b5f8ce75-a2e7-4a25-9345-792c7cde8d6d",
   "metadata": {},
   "source": [
    "查找元素："
   ]
  },
  {
   "cell_type": "code",
   "execution_count": 17,
   "id": "bd9ffe0a-192f-463d-911a-3bffa23b182c",
   "metadata": {},
   "outputs": [
    {
     "data": {
      "text/plain": [
       "1"
      ]
     },
     "execution_count": 17,
     "metadata": {},
     "output_type": "execute_result"
    }
   ],
   "source": [
    "list_1.index(\"Google\")"
   ]
  },
  {
   "cell_type": "markdown",
   "id": "d0a2a249-63a7-4de6-a384-d0b85f766468",
   "metadata": {},
   "source": [
    "弹出最后一个元素："
   ]
  },
  {
   "cell_type": "code",
   "execution_count": 18,
   "id": "e882188f-a566-4941-bfff-fc8c308c8488",
   "metadata": {},
   "outputs": [
    {
     "data": {
      "text/plain": [
       "'Alibaba'"
      ]
     },
     "execution_count": 18,
     "metadata": {},
     "output_type": "execute_result"
    }
   ],
   "source": [
    "list_1.pop()"
   ]
  },
  {
   "cell_type": "code",
   "execution_count": 19,
   "id": "346a8a4f-0646-4f8b-92f6-dbd437fb9987",
   "metadata": {},
   "outputs": [
    {
     "data": {
      "text/plain": [
       "['Baidu', 'Google', 'Facebook']"
      ]
     },
     "execution_count": 19,
     "metadata": {},
     "output_type": "execute_result"
    }
   ],
   "source": [
    "list_1"
   ]
  },
  {
   "cell_type": "code",
   "execution_count": 20,
   "id": "28bd4c36-7202-4b6a-b53c-c950da658f63",
   "metadata": {},
   "outputs": [],
   "source": [
    "list_1.remove(\"Baidu\")"
   ]
  },
  {
   "cell_type": "code",
   "execution_count": 21,
   "id": "faf7e09a-3c22-405b-8b90-353b64151c5c",
   "metadata": {},
   "outputs": [
    {
     "data": {
      "text/plain": [
       "['Google', 'Facebook']"
      ]
     },
     "execution_count": 21,
     "metadata": {},
     "output_type": "execute_result"
    }
   ],
   "source": [
    "list_1"
   ]
  },
  {
   "cell_type": "markdown",
   "id": "2a4a4d0e-8c5d-414d-9f70-32d8dd75ea8b",
   "metadata": {},
   "source": [
    "## 字典"
   ]
  },
  {
   "attachments": {
    "786506a7-5b32-46d8-94ed-5048a79488a9.png": {
     "image/png": "[encoded data removed]"
    }
   },
   "cell_type": "markdown",
   "id": "5b2dd878-3f48-4cdb-baea-e3915a9a0a1b",
   "metadata": {},
   "source": [
    "字典的每个键值 key=>value 对用冒号 : 分割，每个对之间用逗号(,)分割，整个字典包括在花括号 {} 中 ,格式如下所示：\n",
    "\n",
    "d = {key1 : value1, key2 : value2, key3 : value3 }\n",
    "\n",
    "图示：\n",
    "\n",
    "![image.png](attachment:786506a7-5b32-46d8-94ed-5048a79488a9.png)\n",
    "\n",
    "键必须是唯一的，但值则不必。"
   ]
  },
  {
   "cell_type": "markdown",
   "id": "bfbc457e-7430-480c-89a7-1b9225f6d313",
   "metadata": {},
   "source": [
    "这是一个例子："
   ]
  },
  {
   "cell_type": "code",
   "execution_count": 22,
   "id": "2db3de78-839a-4803-96ee-439008a18207",
   "metadata": {},
   "outputs": [],
   "source": [
    "dic = {\"key_one\":\"value_one\", \"key_two\":\"value_two\"}"
   ]
  },
  {
   "cell_type": "markdown",
   "id": "fa3e318e-a816-44b1-a98d-1c4b4b32e21a",
   "metadata": {},
   "source": [
    "我们可以使用key值来获得对应的数据："
   ]
  },
  {
   "cell_type": "code",
   "execution_count": 23,
   "id": "6e984f1b-f64b-44bf-9240-970c3dabd634",
   "metadata": {},
   "outputs": [
    {
     "data": {
      "text/plain": [
       "'value_one'"
      ]
     },
     "execution_count": 23,
     "metadata": {},
     "output_type": "execute_result"
    }
   ],
   "source": [
    "dic[\"key_one\"]"
   ]
  },
  {
   "cell_type": "markdown",
   "id": "6f46747c-a6dd-464d-8cc7-a2bb34e5c0ff",
   "metadata": {},
   "source": [
    "我们可以直接进行打印："
   ]
  },
  {
   "cell_type": "code",
   "execution_count": 24,
   "id": "656260e8-b904-4900-8e70-e03f02fe7b7e",
   "metadata": {},
   "outputs": [
    {
     "name": "stdout",
     "output_type": "stream",
     "text": [
      "{'key_one': 'value_one', 'key_two': 'value_two'}\n"
     ]
    }
   ],
   "source": [
    "print(dic)"
   ]
  },
  {
   "cell_type": "markdown",
   "id": "afecb55d-27d4-48a3-9bfb-12d2ca1349da",
   "metadata": {},
   "source": [
    "查看长度："
   ]
  },
  {
   "cell_type": "code",
   "execution_count": 25,
   "id": "198e2ba6-2982-4db3-9e30-eed06edb628a",
   "metadata": {},
   "outputs": [
    {
     "data": {
      "text/plain": [
       "2"
      ]
     },
     "execution_count": 25,
     "metadata": {},
     "output_type": "execute_result"
    }
   ],
   "source": [
    "len(dic)"
   ]
  },
  {
   "cell_type": "markdown",
   "id": "651b8ded-f807-4890-8352-bc475aaad716",
   "metadata": {},
   "source": [
    "用来判断某一个键是否在字典中："
   ]
  },
  {
   "cell_type": "code",
   "execution_count": 29,
   "id": "a15ffdb1-12af-4999-a171-4c9871786c01",
   "metadata": {},
   "outputs": [
    {
     "data": {
      "text/plain": [
       "True"
      ]
     },
     "execution_count": 29,
     "metadata": {},
     "output_type": "execute_result"
    }
   ],
   "source": [
    "\"key_one\" in dic"
   ]
  },
  {
   "cell_type": "code",
   "execution_count": 30,
   "id": "1d6cf485-5cea-4bf2-8b68-a48b77ec6e0d",
   "metadata": {},
   "outputs": [
    {
     "data": {
      "text/plain": [
       "False"
      ]
     },
     "execution_count": 30,
     "metadata": {},
     "output_type": "execute_result"
    }
   ],
   "source": [
    "\"key_three\" in dic"
   ]
  },
  {
   "cell_type": "markdown",
   "id": "2847ebe6-dc82-4203-9dc1-bd9a69260ffb",
   "metadata": {},
   "source": [
    "使用items（）可以返回一个视图对象："
   ]
  },
  {
   "cell_type": "code",
   "execution_count": 31,
   "id": "f4e701ad-7a22-4625-997b-89162d2ba703",
   "metadata": {},
   "outputs": [
    {
     "data": {
      "text/plain": [
       "dict_items([('key_one', 'value_one'), ('key_two', 'value_two')])"
      ]
     },
     "execution_count": 31,
     "metadata": {},
     "output_type": "execute_result"
    }
   ],
   "source": [
    "dic.items()"
   ]
  },
  {
   "cell_type": "markdown",
   "id": "118b433f-c5ee-4c32-8910-9a6e1fa4c172",
   "metadata": {},
   "source": [
    "使用keys()可以返回字典中的key的视图对象。"
   ]
  },
  {
   "cell_type": "code",
   "execution_count": 32,
   "id": "e2b7ed96-824a-48d8-94aa-060d9edf97c0",
   "metadata": {},
   "outputs": [
    {
     "data": {
      "text/plain": [
       "dict_keys(['key_one', 'key_two'])"
      ]
     },
     "execution_count": 32,
     "metadata": {},
     "output_type": "execute_result"
    }
   ],
   "source": [
    "dic.keys()"
   ]
  },
  {
   "cell_type": "markdown",
   "id": "9e4d4db9-6932-4e1a-8734-87fb7da75346",
   "metadata": {},
   "source": [
    "使用values()可以返回字典中的value的视图对象。"
   ]
  },
  {
   "cell_type": "code",
   "execution_count": 33,
   "id": "c3514f63-761e-4a74-8f46-81d6d1c786a0",
   "metadata": {},
   "outputs": [
    {
     "data": {
      "text/plain": [
       "dict_values(['value_one', 'value_two'])"
      ]
     },
     "execution_count": 33,
     "metadata": {},
     "output_type": "execute_result"
    }
   ],
   "source": [
    "dic.values()"
   ]
  },
  {
   "cell_type": "markdown",
   "id": "84ada01f-be23-4512-861f-c93853c6a9be",
   "metadata": {},
   "source": [
    "update()可以将一个字典的值添加到另一个字典中："
   ]
  },
  {
   "cell_type": "code",
   "execution_count": 35,
   "id": "bf840ef1-78b4-4899-a7bc-7b9761911ce7",
   "metadata": {},
   "outputs": [],
   "source": [
    "dic_one = {1:'a', 2:'b', 3:'c'}\n",
    "dic_two = {4:'d', 5:'e', 6:'f'}"
   ]
  },
  {
   "cell_type": "code",
   "execution_count": 36,
   "id": "c04e5f46-3902-4c75-a8a4-11f3531041ab",
   "metadata": {},
   "outputs": [],
   "source": [
    "dic_one.update(dic_two)"
   ]
  },
  {
   "cell_type": "code",
   "execution_count": 37,
   "id": "5171e6a3-445c-4c1b-9189-a11c0e380d33",
   "metadata": {},
   "outputs": [
    {
     "data": {
      "text/plain": [
       "{1: 'a', 2: 'b', 3: 'c', 4: 'd', 5: 'e', 6: 'f'}"
      ]
     },
     "execution_count": 37,
     "metadata": {},
     "output_type": "execute_result"
    }
   ],
   "source": [
    "dic_one"
   ]
  },
  {
   "cell_type": "markdown",
   "id": "6a1e8276-32bd-4354-b825-d24f1463980a",
   "metadata": {},
   "source": [
    "## 元组"
   ]
  },
  {
   "cell_type": "markdown",
   "id": "fa134403-523f-4844-8714-b778ee0f4833",
   "metadata": {},
   "source": [
    "Python 的元组与列表类似，不同之处在于元组的元素不能修改。\n",
    "\n",
    "元组使用小括号 ( )，列表使用方括号 []。"
   ]
  },
  {
   "cell_type": "code",
   "execution_count": 38,
   "id": "1332501f-5247-47f3-9c92-7a57da67b102",
   "metadata": {},
   "outputs": [],
   "source": [
    "tuple_1 = (\"Google\", \"Baidu\", \"Facebook\")"
   ]
  },
  {
   "cell_type": "code",
   "execution_count": 39,
   "id": "0e6e5227-e51f-4223-a707-3573b6d13249",
   "metadata": {},
   "outputs": [
    {
     "data": {
      "text/plain": [
       "'Baidu'"
      ]
     },
     "execution_count": 39,
     "metadata": {},
     "output_type": "execute_result"
    }
   ],
   "source": [
    "tuple_1[1]"
   ]
  },
  {
   "cell_type": "code",
   "execution_count": 40,
   "id": "3432e79e-f2b5-4b9c-a4c9-dd0387bd2fa7",
   "metadata": {},
   "outputs": [
    {
     "ename": "TypeError",
     "evalue": "'tuple' object does not support item assignment",
     "output_type": "error",
     "traceback": [
      "\u001b[0;31m---------------------------------------------------------------------------\u001b[0m",
      "\u001b[0;31mTypeError\u001b[0m                                 Traceback (most recent call last)",
      "Input \u001b[0;32mIn [40]\u001b[0m, in \u001b[0;36m<cell line: 1>\u001b[0;34m()\u001b[0m\n\u001b[0;32m----> 1\u001b[0m tuple_1[\u001b[38;5;241m1\u001b[39m] \u001b[38;5;241m=\u001b[39m \u001b[38;5;124m\"\u001b[39m\u001b[38;5;124mAlibaba\u001b[39m\u001b[38;5;124m\"\u001b[39m\n",
      "\u001b[0;31mTypeError\u001b[0m: 'tuple' object does not support item assignment"
     ]
    }
   ],
   "source": [
    "tuple_1[1] = \"Alibaba\"  # 这会导致错误"
   ]
  },
  {
   "cell_type": "markdown",
   "id": "98c9c9e8-3026-408d-9103-8f01cdff111e",
   "metadata": {},
   "source": [
    "元组中只包含一个元素时，需要在元素后面添加逗号 , ，否则括号会被当作运算符使用："
   ]
  },
  {
   "cell_type": "code",
   "execution_count": 41,
   "id": "dd8676d2-235c-4979-aa12-403ad9bc81a7",
   "metadata": {},
   "outputs": [
    {
     "data": {
      "text/plain": [
       "int"
      ]
     },
     "execution_count": 41,
     "metadata": {},
     "output_type": "execute_result"
    }
   ],
   "source": [
    "type((20))"
   ]
  },
  {
   "cell_type": "code",
   "execution_count": 43,
   "id": "854883e0-9779-446a-ab44-fbae9d45dc36",
   "metadata": {},
   "outputs": [
    {
     "data": {
      "text/plain": [
       "tuple"
      ]
     },
     "execution_count": 43,
     "metadata": {},
     "output_type": "execute_result"
    }
   ],
   "source": [
    "type((20,))"
   ]
  },
  {
   "cell_type": "markdown",
   "id": "ce80474f-5171-447a-944f-d1906e2e3126",
   "metadata": {},
   "source": [
    "## 集合"
   ]
  },
  {
   "cell_type": "markdown",
   "id": "62c165e7-bb19-4c9f-a71f-db73a2ffbbdc",
   "metadata": {},
   "source": [
    "集合（set）是一个无序的不重复元素序列。\n",
    "\n",
    "可以使用大括号 { } 或者 set() 函数创建集合，注意：创建一个空集合必须用 set() 而不是 { }，因为 { } 是用来创建一个空字典。"
   ]
  },
  {
   "cell_type": "code",
   "execution_count": 44,
   "id": "dd3cdb90-70ce-497e-ab8e-5dede7cca7c5",
   "metadata": {},
   "outputs": [],
   "source": [
    "set_1 = {'apple', 'banana'}"
   ]
  },
  {
   "cell_type": "code",
   "execution_count": 45,
   "id": "1c646c6a-c61b-4404-a227-3cc826e4861c",
   "metadata": {},
   "outputs": [
    {
     "data": {
      "text/plain": [
       "set"
      ]
     },
     "execution_count": 45,
     "metadata": {},
     "output_type": "execute_result"
    }
   ],
   "source": [
    "type(set_1)"
   ]
  },
  {
   "cell_type": "code",
   "execution_count": 50,
   "id": "be969e7d-6a11-4cc6-b7ec-9f2e7b19c17f",
   "metadata": {},
   "outputs": [],
   "source": [
    "set_2 = {'apple', 'apple', 'orange'}"
   ]
  },
  {
   "cell_type": "code",
   "execution_count": 51,
   "id": "9e6e7f31-b63f-4663-b70b-203df127b80a",
   "metadata": {},
   "outputs": [
    {
     "data": {
      "text/plain": [
       "{'apple', 'orange'}"
      ]
     },
     "execution_count": 51,
     "metadata": {},
     "output_type": "execute_result"
    }
   ],
   "source": [
    "set_2"
   ]
  },
  {
   "cell_type": "code",
   "execution_count": 53,
   "id": "22da9393-a98a-41b3-8cdb-f08d8461d48c",
   "metadata": {},
   "outputs": [
    {
     "data": {
      "text/plain": [
       "{'banana'}"
      ]
     },
     "execution_count": 53,
     "metadata": {},
     "output_type": "execute_result"
    }
   ],
   "source": [
    "# set_1 中包含但是 set_b 中不包含的\n",
    "set_1 - set_2"
   ]
  },
  {
   "cell_type": "code",
   "execution_count": 55,
   "id": "42324011-4233-4428-8a35-2854a45a5c19",
   "metadata": {},
   "outputs": [
    {
     "data": {
      "text/plain": [
       "{'apple', 'banana', 'orange'}"
      ]
     },
     "execution_count": 55,
     "metadata": {},
     "output_type": "execute_result"
    }
   ],
   "source": [
    "# set_1 和 set_2 中的所有元素，也就是两个集合的并集\n",
    "set_1 | set_2"
   ]
  },
  {
   "cell_type": "code",
   "execution_count": 56,
   "id": "5caa3b9f-b13b-456c-9832-17cd9d55b7f6",
   "metadata": {},
   "outputs": [
    {
     "data": {
      "text/plain": [
       "{'apple'}"
      ]
     },
     "execution_count": 56,
     "metadata": {},
     "output_type": "execute_result"
    }
   ],
   "source": [
    "# set_1 和 set_2 的交集\n",
    "set_1 & set_2"
   ]
  },
  {
   "cell_type": "markdown",
   "id": "6b38cf97-8901-480e-8541-d00cc678a071",
   "metadata": {},
   "source": [
    "添加需要使用add来进行添加："
   ]
  },
  {
   "cell_type": "code",
   "execution_count": 57,
   "id": "806b10dc-c0a9-4916-ac92-592029a4bd1f",
   "metadata": {},
   "outputs": [],
   "source": [
    "set_3 = {'a', 'b'}"
   ]
  },
  {
   "cell_type": "code",
   "execution_count": 58,
   "id": "b9c30f95-33d8-4542-9575-1a552a6e42d7",
   "metadata": {},
   "outputs": [],
   "source": [
    "set_3.add('c')"
   ]
  },
  {
   "cell_type": "code",
   "execution_count": 59,
   "id": "edda8e1e-56b6-404d-818c-b0d1a6327d08",
   "metadata": {},
   "outputs": [
    {
     "data": {
      "text/plain": [
       "{'a', 'b', 'c'}"
      ]
     },
     "execution_count": 59,
     "metadata": {},
     "output_type": "execute_result"
    }
   ],
   "source": [
    "set_3"
   ]
  },
  {
   "cell_type": "markdown",
   "id": "ef86edd7-5c21-41c3-8b94-889e3804d305",
   "metadata": {},
   "source": [
    "移除则是使用remove()："
   ]
  },
  {
   "cell_type": "code",
   "execution_count": 60,
   "id": "d31bdc10-9e56-4bb1-9c14-de219ecca346",
   "metadata": {},
   "outputs": [],
   "source": [
    "set_3.remove('b')"
   ]
  },
  {
   "cell_type": "code",
   "execution_count": 61,
   "id": "33afaf65-adfd-4446-baba-f6122443e623",
   "metadata": {},
   "outputs": [
    {
     "data": {
      "text/plain": [
       "{'a', 'c'}"
      ]
     },
     "execution_count": 61,
     "metadata": {},
     "output_type": "execute_result"
    }
   ],
   "source": [
    "set_3"
   ]
  },
  {
   "cell_type": "markdown",
   "id": "aff2d85b-eae1-4a1a-9815-46c9cec5bfc9",
   "metadata": {},
   "source": [
    "## Project"
   ]
  },
  {
   "cell_type": "code",
   "execution_count": 62,
   "id": "14292a67-5401-425e-ba85-57dcfb002a0b",
   "metadata": {},
   "outputs": [
    {
     "name": "stdout",
     "output_type": "stream",
     "text": [
      "21\n",
      "ID0005 E\n"
     ]
    }
   ],
   "source": [
    "students = {\n",
    "            \"Alice\": {\"id\": \"ID0001\", \"age\":26, \"grade\":\"A\"},\n",
    "            \"Bob\": {\"id\": \"ID0002\", \"age\":27, \"grade\":\"B\"},\n",
    "            \"Claire\": {\"id\": \"ID0003\", \"age\":17, \"grade\":\"C\"},\n",
    "            \"Dan\": {\"id\": \"ID0004\", \"age\":21, \"grade\":\"D\"},\n",
    "            \"Emma\":{\"id\": \"ID0005\", \"age\":22, \"grade\":\"E\"}\n",
    "            }\n",
    "\n",
    "print(students[\"Dan\"][\"age\"])\n",
    "\n",
    "print(students[\"Emma\"][\"id\"], students[\"Emma\"][\"grade\"])\n"
   ]
  },
  {
   "cell_type": "code",
   "execution_count": 63,
   "id": "095bc6a9-4309-4659-8f1e-45e52d58a32f",
   "metadata": {},
   "outputs": [
    {
     "name": "stdin",
     "output_type": "stream",
     "text": [
      "What film would you like to watch?:  Bourne\n",
      "How old are you?:  18\n"
     ]
    },
    {
     "name": "stdout",
     "output_type": "stream",
     "text": [
      "Enjoy the film!\n"
     ]
    },
    {
     "name": "stdin",
     "output_type": "stream",
     "text": [
      "What film would you like to watch?:  false\n"
     ]
    },
    {
     "name": "stdout",
     "output_type": "stream",
     "text": [
      "We don't have that film...\n"
     ]
    },
    {
     "name": "stdin",
     "output_type": "stream",
     "text": [
      "What film would you like to watch?:  false\n"
     ]
    },
    {
     "name": "stdout",
     "output_type": "stream",
     "text": [
      "We don't have that film...\n"
     ]
    },
    {
     "name": "stdin",
     "output_type": "stream",
     "text": [
      "What film would you like to watch?:  -1\n"
     ]
    },
    {
     "name": "stdout",
     "output_type": "stream",
     "text": [
      "We don't have that film...\n"
     ]
    },
    {
     "ename": "KeyboardInterrupt",
     "evalue": "Interrupted by user",
     "output_type": "error",
     "traceback": [
      "\u001b[0;31m---------------------------------------------------------------------------\u001b[0m",
      "\u001b[0;31mKeyboardInterrupt\u001b[0m                         Traceback (most recent call last)",
      "Input \u001b[0;32mIn [63]\u001b[0m, in \u001b[0;36m<cell line: 8>\u001b[0;34m()\u001b[0m\n\u001b[1;32m      1\u001b[0m films \u001b[38;5;241m=\u001b[39m {\n\u001b[1;32m      2\u001b[0m     \u001b[38;5;124m\"\u001b[39m\u001b[38;5;124mFinding Dory\u001b[39m\u001b[38;5;124m\"\u001b[39m: [\u001b[38;5;241m3\u001b[39m,\u001b[38;5;241m5\u001b[39m],\n\u001b[1;32m      3\u001b[0m     \u001b[38;5;124m\"\u001b[39m\u001b[38;5;124mBourne\u001b[39m\u001b[38;5;124m\"\u001b[39m: [\u001b[38;5;241m18\u001b[39m,\u001b[38;5;241m5\u001b[39m],\n\u001b[1;32m      4\u001b[0m     \u001b[38;5;124m\"\u001b[39m\u001b[38;5;124mTarzan\u001b[39m\u001b[38;5;124m\"\u001b[39m: [\u001b[38;5;241m15\u001b[39m,\u001b[38;5;241m5\u001b[39m],\n\u001b[1;32m      5\u001b[0m     \u001b[38;5;124m\"\u001b[39m\u001b[38;5;124mGhost Busters\u001b[39m\u001b[38;5;124m\"\u001b[39m:[\u001b[38;5;241m12\u001b[39m, \u001b[38;5;241m5\u001b[39m]\n\u001b[1;32m      6\u001b[0m     }\n\u001b[1;32m      8\u001b[0m \u001b[38;5;28;01mwhile\u001b[39;00m \u001b[38;5;28;01mTrue\u001b[39;00m:\n\u001b[0;32m---> 10\u001b[0m     choice \u001b[38;5;241m=\u001b[39m \u001b[38;5;28;43minput\u001b[39;49m\u001b[43m(\u001b[49m\u001b[38;5;124;43m\"\u001b[39;49m\u001b[38;5;124;43mWhat film would you like to watch?: \u001b[39;49m\u001b[38;5;124;43m\"\u001b[39;49m\u001b[43m)\u001b[49m\u001b[38;5;241m.\u001b[39mstrip()\u001b[38;5;241m.\u001b[39mtitle()\n\u001b[1;32m     12\u001b[0m     \u001b[38;5;28;01mif\u001b[39;00m choice \u001b[38;5;129;01min\u001b[39;00m films:\n\u001b[1;32m     13\u001b[0m         age \u001b[38;5;241m=\u001b[39m \u001b[38;5;28mint\u001b[39m(\u001b[38;5;28minput\u001b[39m(\u001b[38;5;124m\"\u001b[39m\u001b[38;5;124mHow old are you?: \u001b[39m\u001b[38;5;124m\"\u001b[39m)\u001b[38;5;241m.\u001b[39mstrip())\n",
      "File \u001b[0;32m~/.local/lib/python3.10/site-packages/ipykernel/kernelbase.py:1177\u001b[0m, in \u001b[0;36mKernel.raw_input\u001b[0;34m(self, prompt)\u001b[0m\n\u001b[1;32m   1173\u001b[0m \u001b[38;5;28;01mif\u001b[39;00m \u001b[38;5;129;01mnot\u001b[39;00m \u001b[38;5;28mself\u001b[39m\u001b[38;5;241m.\u001b[39m_allow_stdin:\n\u001b[1;32m   1174\u001b[0m     \u001b[38;5;28;01mraise\u001b[39;00m StdinNotImplementedError(\n\u001b[1;32m   1175\u001b[0m         \u001b[38;5;124m\"\u001b[39m\u001b[38;5;124mraw_input was called, but this frontend does not support input requests.\u001b[39m\u001b[38;5;124m\"\u001b[39m\n\u001b[1;32m   1176\u001b[0m     )\n\u001b[0;32m-> 1177\u001b[0m \u001b[38;5;28;01mreturn\u001b[39;00m \u001b[38;5;28;43mself\u001b[39;49m\u001b[38;5;241;43m.\u001b[39;49m\u001b[43m_input_request\u001b[49m\u001b[43m(\u001b[49m\n\u001b[1;32m   1178\u001b[0m \u001b[43m    \u001b[49m\u001b[38;5;28;43mstr\u001b[39;49m\u001b[43m(\u001b[49m\u001b[43mprompt\u001b[49m\u001b[43m)\u001b[49m\u001b[43m,\u001b[49m\n\u001b[1;32m   1179\u001b[0m \u001b[43m    \u001b[49m\u001b[38;5;28;43mself\u001b[39;49m\u001b[38;5;241;43m.\u001b[39;49m\u001b[43m_parent_ident\u001b[49m\u001b[43m[\u001b[49m\u001b[38;5;124;43m\"\u001b[39;49m\u001b[38;5;124;43mshell\u001b[39;49m\u001b[38;5;124;43m\"\u001b[39;49m\u001b[43m]\u001b[49m\u001b[43m,\u001b[49m\n\u001b[1;32m   1180\u001b[0m \u001b[43m    \u001b[49m\u001b[38;5;28;43mself\u001b[39;49m\u001b[38;5;241;43m.\u001b[39;49m\u001b[43mget_parent\u001b[49m\u001b[43m(\u001b[49m\u001b[38;5;124;43m\"\u001b[39;49m\u001b[38;5;124;43mshell\u001b[39;49m\u001b[38;5;124;43m\"\u001b[39;49m\u001b[43m)\u001b[49m\u001b[43m,\u001b[49m\n\u001b[1;32m   1181\u001b[0m \u001b[43m    \u001b[49m\u001b[43mpassword\u001b[49m\u001b[38;5;241;43m=\u001b[39;49m\u001b[38;5;28;43;01mFalse\u001b[39;49;00m\u001b[43m,\u001b[49m\n\u001b[1;32m   1182\u001b[0m \u001b[43m\u001b[49m\u001b[43m)\u001b[49m\n",
      "File \u001b[0;32m~/.local/lib/python3.10/site-packages/ipykernel/kernelbase.py:1219\u001b[0m, in \u001b[0;36mKernel._input_request\u001b[0;34m(self, prompt, ident, parent, password)\u001b[0m\n\u001b[1;32m   1216\u001b[0m             \u001b[38;5;28;01mbreak\u001b[39;00m\n\u001b[1;32m   1217\u001b[0m \u001b[38;5;28;01mexcept\u001b[39;00m \u001b[38;5;167;01mKeyboardInterrupt\u001b[39;00m:\n\u001b[1;32m   1218\u001b[0m     \u001b[38;5;66;03m# re-raise KeyboardInterrupt, to truncate traceback\u001b[39;00m\n\u001b[0;32m-> 1219\u001b[0m     \u001b[38;5;28;01mraise\u001b[39;00m \u001b[38;5;167;01mKeyboardInterrupt\u001b[39;00m(\u001b[38;5;124m\"\u001b[39m\u001b[38;5;124mInterrupted by user\u001b[39m\u001b[38;5;124m\"\u001b[39m) \u001b[38;5;28;01mfrom\u001b[39;00m \u001b[38;5;28mNone\u001b[39m\n\u001b[1;32m   1220\u001b[0m \u001b[38;5;28;01mexcept\u001b[39;00m \u001b[38;5;167;01mException\u001b[39;00m:\n\u001b[1;32m   1221\u001b[0m     \u001b[38;5;28mself\u001b[39m\u001b[38;5;241m.\u001b[39mlog\u001b[38;5;241m.\u001b[39mwarning(\u001b[38;5;124m\"\u001b[39m\u001b[38;5;124mInvalid Message:\u001b[39m\u001b[38;5;124m\"\u001b[39m, exc_info\u001b[38;5;241m=\u001b[39m\u001b[38;5;28;01mTrue\u001b[39;00m)\n",
      "\u001b[0;31mKeyboardInterrupt\u001b[0m: Interrupted by user"
     ]
    }
   ],
   "source": [
    "films = {\n",
    "    \"Finding Dory\": [3,5],\n",
    "    \"Bourne\": [18,5],\n",
    "    \"Tarzan\": [15,5],\n",
    "    \"Ghost Busters\":[12, 5]\n",
    "    }\n",
    "\n",
    "while True:\n",
    "\n",
    "    choice = input(\"What film would you like to watch?: \").strip().title()\n",
    "\n",
    "    if choice in films:\n",
    "        age = int(input(\"How old are you?: \").strip())\n",
    "\n",
    "        # check user age\n",
    "\n",
    "        if age >= films[choice][0]:\n",
    "            # check enough seats\n",
    "\n",
    "            num_seats = films[choice][1]\n",
    "\n",
    "            if num_seats > 0:\n",
    "                print(\"Enjoy the film!\")\n",
    "                films[choice][1] = films[choice][1] - 1\n",
    "            else:\n",
    "                print(\"Sorry, we are sold out!\")\n",
    "        else:\n",
    "            print(\"You are too young to see that film!\")\n",
    "    else:\n",
    "        print(\"We don't have that film...\")\n",
    "    "
   ]
  }
 ],
 "metadata": {
  "kernelspec": {
   "display_name": "Python 3 (ipykernel)",
   "language": "python",
   "name": "python3"
  },
  "language_info": {
   "codemirror_mode": {
    "name": "ipython",
    "version": 3
   },
   "file_extension": ".py",
   "mimetype": "text/x-python",
   "name": "python",
   "nbconvert_exporter": "python",
   "pygments_lexer": "ipython3",
   "version": "3.10.4"
  }
 },
 "nbformat": 4,
 "nbformat_minor": 5
}
